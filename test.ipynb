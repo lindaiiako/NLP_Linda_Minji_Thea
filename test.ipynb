{
 "cells": [
  {
   "cell_type": "code",
   "execution_count": null,
   "metadata": {},
   "outputs": [],
   "source": [
    "%load_ext autoreload\n",
    "%autoreload 2"
   ]
  },
  {
   "cell_type": "code",
   "execution_count": null,
   "metadata": {},
   "outputs": [],
   "source": [
    "from common import utils\n",
    "\n",
    "print(utils.one_hot_encode(\"area|entrance_fee | none\"))"
   ]
  },
  {
   "cell_type": "code",
   "execution_count": null,
   "metadata": {},
   "outputs": [],
   "source": [
    "# Case for batched data\n",
    "utils.compute_prediction_scores(preds=[\"area|entrance_fee|none\", \"none|food\"], labels=[\"area\", \"food| none\"])"
   ]
  },
  {
   "cell_type": "code",
   "execution_count": null,
   "metadata": {},
   "outputs": [],
   "source": [
    "# Case for single predictions\n",
    "utils.compute_prediction_scores(preds=\"none|food\", labels=\"food| none\")"
   ]
  },
  {
   "cell_type": "code",
   "execution_count": 20,
   "metadata": {},
   "outputs": [
    {
     "name": "stderr",
     "output_type": "stream",
     "text": [
      "/home/lindaiiako/miniconda3/envs/dalintest1/lib/python3.12/site-packages/transformers/tokenization_utils_base.py:1601: FutureWarning: `clean_up_tokenization_spaces` was not set. It will be set to `True` by default. This behavior will be depracted in transformers v4.45, and will be then set to `False` by default. For more details check this issue: https://github.com/huggingface/transformers/issues/31884\n",
      "  warnings.warn(\n"
     ]
    }
   ],
   "source": [
    "from common.mwoz_data import CustomMwozDataset\n",
    "from transformers import T5Tokenizer, T5ForConditionalGeneration\n",
    "\n",
    "\n",
    "MODEL_NAME = \"google/flan-t5-small\"\n",
    "\n",
    "tokenizer = T5Tokenizer.from_pretrained(MODEL_NAME, model_max_length=None)\n",
    "\n",
    "\n",
    "train_set = CustomMwozDataset(tokenizer, data_filename='data/train.json')\n",
    "validation_set = CustomMwozDataset(tokenizer, data_filename='data/valid.json')"
   ]
  },
  {
   "cell_type": "code",
   "execution_count": 23,
   "metadata": {},
   "outputs": [
    {
     "name": "stdout",
     "output_type": "stream",
     "text": [
      "8529\n",
      "Based on the [dialog] and [kb], generate entity types to be included in the response: [dialog] <user> i need to find lodgings on the north side of town . choice: 13 [kb] [{\"name\": \"arbury_lodge_guesthouse\", \"address\": \"82_arbury_road\", \"area\": \"north\", \"phone\": \"01223364319\", \"postcode\": \"cb42je\", \"pricerange\": \"moderate\", \"stars\": \"4_star\", \"type\": \"guesthouse\", \"choice\": \"13\", \"ref\": \"2asa82vj\"},{\"name\": \"kirkwood_house\", \"address\": \"172_chesterton_road\", \"area\": \"north\", \"phone\": \"01223306283\", \"postcode\": \"cb41da\", \"pricerange\": \"moderate\", \"stars\": \"4_star\", \"type\": \"guesthouse\", \"choice\": \"13\", \"ref\": \"2asa82vj\"},{\"name\": \"worth_house\", \"address\": \"152_chesterton_road\", \"area\": \"north\", \"phone\": \"01223316074\", \"postcode\": \"cb41da\", \"pricerange\": \"cheap\", \"stars\": \"4_star\", \"type\": \"guesthouse\", \"choice\": \"13\", \"ref\": \"2asa82vj\"},{\"name\": \"alpha-milton_guest_house\", \"address\": \"63_milton_road\", \"area\": \"north\", \"phone\": \"01223311625\", \"postcode\": \"cb41xa\", \"pricerange\": \"moderate\", \"stars\": \"3_star\", \"type\": \"guesthouse\", \"choice\": \"none\", \"ref\": \"none\"},{\"name\": \"city_centre_north_b_and_b\", \"address\": \"328a_histon_road\", \"area\": \"north\", \"phone\": \"01223312843\", \"postcode\": \"cb43ht\", \"pricerange\": \"cheap\", \"stars\": \"0_star\", \"type\": \"guesthouse\", \"choice\": \"13\", \"ref\": \"2asa82vj\"},{\"name\": \"avalon\", \"address\": \"62_gilbert_road\", \"area\": \"north\", \"phone\": \"01223353071\", \"postcode\": \"cb43pd\", \"pricerange\": \"moderate\", \"stars\": \"4_star\", \"type\": \"guesthouse\", \"choice\": \"none\", \"ref\": \"none\"},{\"name\": \"acorn_guest_house\", \"address\": \"154_chesterton_road\", \"area\": \"north\", \"phone\": \"01223353888\", \"postcode\": \"cb41da\", \"pricerange\": \"moderate\", \"stars\": \"4_star\", \"type\": \"guesthouse\", \"choice\": \"13\", \"ref\": \"2asa82vj\"}]\n",
      "area | choice\n"
     ]
    }
   ],
   "source": [
    "print(len(train_set))\n",
    "print(train_set[0]['input_seq'])\n",
    "print(train_set[0]['output_seq'])"
   ]
  },
  {
   "cell_type": "code",
   "execution_count": 24,
   "metadata": {},
   "outputs": [
    {
     "name": "stdout",
     "output_type": "stream",
     "text": [
      "576\n",
      "Based on the [dialog] and [kb], generate entity types to be included in the response: [dialog] <user> i ' m in the mood for a traditional american food restaurant tonight and looking to treat myself to some expensive fine dining . can you help me find a perfect place ? [kb] [{\"name\": \"ugly_duckling\", \"address\": \"12_st_._johns_street_city_centre\", \"area\": \"centre\", \"food\": \"chinese\", \"postcode\": \"cb21tw\", \"pricerange\": \"expensive\", \"type\": \"restaurant\", \"ref\": \"ikxbxweo\"},{\"name\": \"the_good_luck_chinese_food_takeaway\", \"address\": \"82_cherry_hinton_road_cherry_hinton\", \"area\": \"south\", \"food\": \"chinese\", \"postcode\": \"cb17ag\", \"pricerange\": \"expensive\", \"type\": \"restaurant\", \"ref\": \"ikxbxweo\"},{\"name\": \"hk_fusion\", \"address\": \"21_burleigh_street_city_centre\", \"area\": \"centre\", \"food\": \"chinese\", \"postcode\": \"cb11dg\", \"pricerange\": \"expensive\", \"type\": \"restaurant\", \"ref\": \"ikxbxweo\"},{\"name\": \"ugly_duckling\", \"address\": \"12_st_._johns_street_city_centre\", \"area\": \"centre\", \"food\": \"chinese\", \"postcode\": \"cb21tw\", \"pricerange\": \"expensive\", \"type\": \"restaurant\", \"ref\": \"none\"},{\"name\": \"tang_chinese\", \"address\": \"napier_street_city_centre\", \"area\": \"centre\", \"food\": \"chinese\", \"postcode\": \"cb11hr\", \"pricerange\": \"expensive\", \"type\": \"restaurant\", \"ref\": \"ikxbxweo\"},{\"name\": \"sesame_restaurant_and_bar\", \"address\": \"17_hills_road_city_centre\", \"area\": \"centre\", \"food\": \"chinese\", \"postcode\": \"cb21nw\", \"pricerange\": \"expensive\", \"type\": \"restaurant\", \"ref\": \"ikxbxweo\"},{\"name\": \"gourmet_burger_kitchen\", \"address\": \"regent_street_city_centre\", \"area\": \"centre\", \"food\": \"north_american\", \"postcode\": \"cb21ab\", \"pricerange\": \"expensive\", \"type\": \"restaurant\", \"ref\": \"none\"}]\n",
      "food | name | pricerange | type\n",
      "\n"
     ]
    }
   ],
   "source": [
    "print(len(validation_set))\n",
    "print(validation_set[0]['input_seq'])\n",
    "print(validation_set[0]['output_seq'])\n",
    "\n",
    "print()"
   ]
  }
 ],
 "metadata": {
  "kernelspec": {
   "display_name": "Python 3",
   "language": "python",
   "name": "python3"
  },
  "language_info": {
   "codemirror_mode": {
    "name": "ipython",
    "version": 3
   },
   "file_extension": ".py",
   "mimetype": "text/x-python",
   "name": "python",
   "nbconvert_exporter": "python",
   "pygments_lexer": "ipython3",
   "version": "3.12.4"
  }
 },
 "nbformat": 4,
 "nbformat_minor": 2
}
